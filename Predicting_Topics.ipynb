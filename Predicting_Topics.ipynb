{
 "cells": [
  {
   "cell_type": "markdown",
   "metadata": {},
   "source": [
    "## Predict story topics using  word vectors"
   ]
  },
  {
   "cell_type": "code",
   "execution_count": 2,
   "metadata": {
    "collapsed": true
   },
   "outputs": [],
   "source": [
    "# import relevant libraries\n",
    "import pandas as pd\n",
    "import numpy as np\n",
    "import re\n",
    "import functools\n",
    "from operator import add\n",
    "import seaborn as sns\n",
    "import matplotlib.pyplot as plt\n",
    "\n",
    "# import libraries for NLP\n",
    "import nltk\n",
    "from bs4 import BeautifulSoup\n",
    "from nltk.corpus import stopwords\n",
    "from nltk.tokenize import word_tokenize\n",
    "from nltk.stem import PorterStemmer\n",
    "from nltk.corpus import stopwords\n",
    "from sklearn import metrics\n",
    "\n",
    "\n",
    "from sklearn.feature_extraction.text import CountVectorizer, TfidfVectorizer\n",
    "from sklearn.preprocessing import MultiLabelBinarizer\n",
    "from sklearn.naive_bayes import MultinomialNB         # Naive Bayes\n",
    "\n",
    "\n",
    "# Import Reuters data\n",
    "from nltk.corpus import reuters"
   ]
  },
  {
   "cell_type": "markdown",
   "metadata": {},
   "source": [
    "The aim of this project is to predict the topic a news article deals with, given a set of five different topics. I will use the Reuters corpus which comprises news stories that are labelled to topics. I will use a Naive Bayes model to predict the new labels based on the known stories. Unkonwn stories should then be classified if related to one of the topics.\n",
    "\n",
    "I will pick topics for prediction that are distinct with regards to the vocabulary they are using to be able to make better predictions. Distinct vocabulary will ensure that the model works better on incoming stories, since ther will be little overlap in the features."
   ]
  },
  {
   "cell_type": "markdown",
   "metadata": {},
   "source": [
    "## Get data from Reuters corpus"
   ]
  },
  {
   "cell_type": "markdown",
   "metadata": {},
   "source": [
    "The Reuters Corpus contains 10,788 news documents totaling 1.3 million words. The documents have been classified into 90 topics, and grouped into two sets, called \"training\" and \"test\". The text with fileid 'test/14826' is a document drawn from the test set."
   ]
  },
  {
   "cell_type": "code",
   "execution_count": 3,
   "metadata": {},
   "outputs": [
    {
     "name": "stdout",
     "output_type": "stream",
     "text": [
      "Corpus has 90 labels:\n",
      "\n",
      "\n",
      "['acq', 'alum', 'barley', 'bop', 'carcass', 'castor-oil', 'cocoa', 'coconut', 'coconut-oil', 'coffee', 'copper', 'copra-cake', 'corn', 'cotton', 'cotton-oil', 'cpi', 'cpu', 'crude', 'dfl', 'dlr', 'dmk', 'earn', 'fuel', 'gas', 'gnp', 'gold', 'grain', 'groundnut', 'groundnut-oil', 'heat', 'hog', 'housing', 'income', 'instal-debt', 'interest', 'ipi', 'iron-steel', 'jet', 'jobs', 'l-cattle', 'lead', 'lei', 'lin-oil', 'livestock', 'lumber', 'meal-feed', 'money-fx', 'money-supply', 'naphtha', 'nat-gas', 'nickel', 'nkr', 'nzdlr', 'oat', 'oilseed', 'orange', 'palladium', 'palm-oil', 'palmkernel', 'pet-chem', 'platinum', 'potato', 'propane', 'rand', 'rape-oil', 'rapeseed', 'reserves', 'retail', 'rice', 'rubber', 'rye', 'ship', 'silver', 'sorghum', 'soy-meal', 'soy-oil', 'soybean', 'strategic-metal', 'sugar', 'sun-meal', 'sun-oil', 'sunseed', 'tea', 'tin', 'trade', 'veg-oil', 'wheat', 'wpi', 'yen', 'zinc']\n"
     ]
    }
   ],
   "source": [
    "# get all labels that are available\n",
    "labels = reuters.categories()\n",
    "\n",
    "print(\"Corpus has \" + str(len(labels)) + \" labels:\")\n",
    "print(\"\\n\")\n",
    "print(labels)"
   ]
  },
  {
   "cell_type": "markdown",
   "metadata": {},
   "source": [
    "We can ask for the topics covered by one or more documents, or for the documents included in one or more categories. The corpus methods accept a single fileid or a list of fileids."
   ]
  },
  {
   "cell_type": "code",
   "execution_count": 4,
   "metadata": {
    "collapsed": true
   },
   "outputs": [],
   "source": [
    "# get document IDs\n",
    "documents = reuters.fileids()"
   ]
  },
  {
   "cell_type": "code",
   "execution_count": 5,
   "metadata": {},
   "outputs": [
    {
     "data": {
      "text/plain": [
       "['barley', 'corn', 'grain', 'wheat']"
      ]
     },
     "execution_count": 5,
     "metadata": {},
     "output_type": "execute_result"
    }
   ],
   "source": [
    "# get labells from story number 9865\n",
    "reuters.categories('training/9865')"
   ]
  },
  {
   "cell_type": "code",
   "execution_count": 6,
   "metadata": {},
   "outputs": [
    {
     "data": {
      "text/plain": [
       "['test/19668', 'training/97']"
      ]
     },
     "execution_count": 6,
     "metadata": {},
     "output_type": "execute_result"
    }
   ],
   "source": [
    "# get field IDs for stories that are tagged to \"Barley\"\n",
    "reuters.fileids('rye')"
   ]
  },
  {
   "cell_type": "markdown",
   "metadata": {},
   "source": [
    "The split used is named Mod-Apte which only considers categories that have at least one document in the training set and the test set. The Mod-Apte split has 90 categories with a training set of 7769 documents and a test set of 3019 documents."
   ]
  },
  {
   "cell_type": "code",
   "execution_count": 7,
   "metadata": {
    "collapsed": true
   },
   "outputs": [],
   "source": [
    "# get document IDs for train and test data\n",
    "# to split in train and test data\n",
    "test = [d for d in documents if d.startswith('test/')]\n",
    "train = [d for d in documents if d.startswith('training/')]"
   ]
  },
  {
   "cell_type": "code",
   "execution_count": 8,
   "metadata": {},
   "outputs": [
    {
     "name": "stdout",
     "output_type": "stream",
     "text": [
      "Length of test data: 3019\n",
      "Length of training data: 7769\n",
      "Length of whole corpus: 10788\n"
     ]
    }
   ],
   "source": [
    "# Len of test and training data \n",
    "print(\"Length of test data: \" + str(len(test)))\n",
    "print(\"Length of training data: \" + str(len(train)))\n",
    "\n",
    "print(\"Length of whole corpus: \" + str(len(test)+len(train)))"
   ]
  },
  {
   "cell_type": "code",
   "execution_count": 9,
   "metadata": {},
   "outputs": [
    {
     "data": {
      "text/plain": [
       "['DANISH', 'CROPS', 'TWO', 'WEEKS', 'BEHIND', ',', ...]"
      ]
     },
     "execution_count": 9,
     "metadata": {},
     "output_type": "execute_result"
    }
   ],
   "source": [
    "# it is possible to get the words of each article by calling the .word() function.\n",
    "# Headlines are capitalized and list also comprises punctuation\n",
    "reuters.words('test/19668')"
   ]
  },
  {
   "cell_type": "markdown",
   "metadata": {},
   "source": [
    "# Decide which labels to pick\n",
    "\n",
    "To predict topics based on language, a sufficiently large training data is needed. Thus, it will only be possible to use labels that have more than 25 stories assigned to them."
   ]
  },
  {
   "cell_type": "code",
   "execution_count": 10,
   "metadata": {},
   "outputs": [
    {
     "name": "stdout",
     "output_type": "stream",
     "text": [
      "[('castor-oil', 1), ('cotton-oil', 1), ('groundnut-oil', 1), ('lin-oil', 1), ('nkr', 1), ('rye', 1), ('sun-meal', 1), ('copra-cake', 2), ('dfl', 2), ('naphtha', 2), ('nzdlr', 2), ('palladium', 2), ('palmkernel', 2), ('rand', 2), ('cpu', 3), ('potato', 3), ('propane', 3), ('coconut', 4), ('coconut-oil', 4), ('jet', 4), ('groundnut', 5), ('instal-debt', 5), ('platinum', 5), ('rape-oil', 5), ('sun-oil', 5), ('l-cattle', 6), ('nickel', 8), ('oat', 8), ('income', 9), ('tea', 9), ('dmk', 10), ('lumber', 10), ('sunseed', 11), ('lei', 12), ('fuel', 13), ('soy-meal', 13), ('heat', 14), ('soy-oil', 14), ('lead', 15), ('hog', 16), ('housing', 16), ('orange', 16), ('strategic-metal', 16), ('rapeseed', 18), ('tin', 18), ('wpi', 19), ('pet-chem', 20), ('silver', 21), ('zinc', 21), ('retail', 23), ('sorghum', 24), ('meal-feed', 30), ('palm-oil', 30), ('alum', 35), ('rice', 35), ('barley', 37), ('gas', 37), ('rubber', 37), ('cotton', 39), ('iron-steel', 40), ('ipi', 41), ('yen', 45), ('jobs', 46), ('copper', 47), ('carcass', 50), ('cocoa', 55), ('reserves', 55), ('cpi', 69), ('bop', 75), ('livestock', 75), ('nat-gas', 75), ('soybean', 78), ('veg-oil', 87), ('gold', 94), ('gnp', 101), ('coffee', 111), ('oilseed', 124), ('sugar', 126), ('dlr', 131), ('money-supply', 140), ('corn', 181), ('ship', 197), ('wheat', 212), ('interest', 347), ('trade', 368), ('crude', 389), ('grain', 433), ('money-fx', 538), ('acq', 1650), ('earn', 2877)]\n"
     ]
    }
   ],
   "source": [
    "# Are enough stories tagged to each label in the training data to create vectors?\n",
    "# Assumption: more than 25 stories are need to have relevant vocabulary\n",
    "\n",
    "import operator\n",
    "\n",
    "numberStories = {}\n",
    "\n",
    "for label in labels:\n",
    "    story_list = reuters.fileids(label)\n",
    "    training_stories = []\n",
    "    for item in story_list:\n",
    "        if item.startswith(\"training\"):\n",
    "            training_stories.append(item)\n",
    "    numberStories[label] = len(training_stories)\n",
    "\n",
    "# get frequency of tag on the whole corpus\n",
    "sorted_dict = sorted(numberStories.items(), key=operator.itemgetter(1))\n",
    "print(sorted_dict)\n"
   ]
  },
  {
   "cell_type": "code",
   "execution_count": 11,
   "metadata": {},
   "outputs": [
    {
     "name": "stdout",
     "output_type": "stream",
     "text": [
      "{'acq': 1650, 'alum': 35, 'barley': 37, 'bop': 75, 'carcass': 50, 'castor-oil': 1, 'cocoa': 55, 'coconut': 4, 'coconut-oil': 4, 'coffee': 111, 'copper': 47, 'copra-cake': 2, 'corn': 181, 'cotton': 39, 'cotton-oil': 1, 'cpi': 69, 'cpu': 3, 'crude': 389, 'dfl': 2, 'dlr': 131, 'dmk': 10, 'earn': 2877, 'fuel': 13, 'gas': 37, 'gnp': 101, 'gold': 94, 'grain': 433, 'groundnut': 5, 'groundnut-oil': 1, 'heat': 14, 'hog': 16, 'housing': 16, 'income': 9, 'instal-debt': 5, 'interest': 347, 'ipi': 41, 'iron-steel': 40, 'jet': 4, 'jobs': 46, 'l-cattle': 6, 'lead': 15, 'lei': 12, 'lin-oil': 1, 'livestock': 75, 'lumber': 10, 'meal-feed': 30, 'money-fx': 538, 'money-supply': 140, 'naphtha': 2, 'nat-gas': 75, 'nickel': 8, 'nkr': 1, 'nzdlr': 2, 'oat': 8, 'oilseed': 124, 'orange': 16, 'palladium': 2, 'palm-oil': 30, 'palmkernel': 2, 'pet-chem': 20, 'platinum': 5, 'potato': 3, 'propane': 3, 'rand': 2, 'rape-oil': 5, 'rapeseed': 18, 'reserves': 55, 'retail': 23, 'rice': 35, 'rubber': 37, 'rye': 1, 'ship': 197, 'silver': 21, 'sorghum': 24, 'soy-meal': 13, 'soy-oil': 14, 'soybean': 78, 'strategic-metal': 16, 'sugar': 126, 'sun-meal': 1, 'sun-oil': 5, 'sunseed': 11, 'tea': 9, 'tin': 18, 'trade': 368, 'veg-oil': 87, 'wheat': 212, 'wpi': 19, 'yen': 45, 'zinc': 21}\n"
     ]
    }
   ],
   "source": [
    "print(numberStories)"
   ]
  },
  {
   "cell_type": "markdown",
   "metadata": {},
   "source": [
    "## Most labels occure not very often"
   ]
  },
  {
   "cell_type": "code",
   "execution_count": 12,
   "metadata": {
    "collapsed": true
   },
   "outputs": [],
   "source": [
    "# Create dataframe with labels and number how often they occur in the corpus\n",
    "df_labels = pd.DataFrame.from_dict(numberStories, orient = 'index')\n",
    "df_labels.sort_values(by=0, ascending=False, inplace=True)"
   ]
  },
  {
   "cell_type": "code",
   "execution_count": 81,
   "metadata": {},
   "outputs": [
    {
     "data": {
      "image/png": "[encoded data removed]",
      "text/plain": [
       "<matplotlib.figure.Figure at 0x246d1395cf8>"
      ]
     },
     "metadata": {},
     "output_type": "display_data"
    }
   ],
   "source": [
    "# Create a visualisation of the label count\n",
    "\n",
    "df_labels[0].plot(kind='bar')\n",
    "\n",
    "plt.rcParams['figure.figsize'] = (20, 15)\n",
    "plt.rcParams['font.size'] = 14\n",
    "plt.xlabel(\"Labels\")    \n",
    "plt.title(\"Count of Labels in Reuters Corpus\")\n",
    "\n",
    "plt.show()"
   ]
  },
  {
   "cell_type": "markdown",
   "metadata": {},
   "source": [
    "I will get rid of all labels that have less than 25 stories assigned."
   ]
  },
  {
   "cell_type": "code",
   "execution_count": 14,
   "metadata": {},
   "outputs": [
    {
     "name": "stdout",
     "output_type": "stream",
     "text": [
      "Number of labels with more than 25 stories assigned is 39\n",
      "\n",
      "\n",
      "['acq', 'alum', 'barley', 'bop', 'carcass', 'cocoa', 'coffee', 'copper', 'corn', 'cotton', 'cpi', 'crude', 'dlr', 'earn', 'gas', 'gnp', 'gold', 'grain', 'interest', 'ipi', 'iron-steel', 'jobs', 'livestock', 'meal-feed', 'money-fx', 'money-supply', 'nat-gas', 'oilseed', 'palm-oil', 'reserves', 'rice', 'rubber', 'ship', 'soybean', 'sugar', 'trade', 'veg-oil', 'wheat', 'yen']\n"
     ]
    }
   ],
   "source": [
    "# Keep only taggs that have more than 25 stories assigned\n",
    "# 39 labels remain from which I can pick\n",
    "label_list = []\n",
    "\n",
    "for key, value in numberStories.items():\n",
    "    if value > 25:\n",
    "        label_list.append(key)\n",
    "           \n",
    "print(\"Number of labels with more than 25 stories assigned is \" + str(len(label_list)))\n",
    "print(\"\\n\")\n",
    "print(label_list)"
   ]
  },
  {
   "cell_type": "markdown",
   "metadata": {},
   "source": [
    "# Are all these labels present in the test and training data?\n",
    "\n",
    "I need labels that are present in the test as well as the training data to train the model as well as to make predictions. "
   ]
  },
  {
   "cell_type": "code",
   "execution_count": 15,
   "metadata": {
    "collapsed": true
   },
   "outputs": [],
   "source": [
    "# Are these labels present in the test data?\n",
    "test_label_list = []\n",
    "\n",
    "# get all labels present in test data\n",
    "for story in test:\n",
    "    labels = reuters.categories(story)\n",
    "    test_label_list.append(labels) "
   ]
  },
  {
   "cell_type": "code",
   "execution_count": 16,
   "metadata": {
    "collapsed": true
   },
   "outputs": [],
   "source": [
    "# Flatten the list\n",
    "test_label_list = functools.reduce(add, test_label_list)"
   ]
  },
  {
   "cell_type": "code",
   "execution_count": 17,
   "metadata": {},
   "outputs": [
    {
     "name": "stdout",
     "output_type": "stream",
     "text": [
      "All labels are present in test data\n"
     ]
    }
   ],
   "source": [
    "# get rid of duplicates\n",
    "set_label = list(set(test_label_list))\n",
    "\n",
    "# print the label if it is not present in the test set\n",
    "flag = False\n",
    "for label in label_list:\n",
    "    if label not in set_label:\n",
    "        flag = True\n",
    "        print(label)\n",
    "if flag == True:\n",
    "    print(\"These labels are not in the test data\")\n",
    "else:\n",
    "    print(\"All labels are present in test data\")\n",
    "    "
   ]
  },
  {
   "cell_type": "code",
   "execution_count": 18,
   "metadata": {
    "collapsed": true
   },
   "outputs": [],
   "source": [
    "# Are these labels present in the training data?\n",
    "train_label_list = []\n",
    "\n",
    "# get all labels present in training data\n",
    "for story in train:\n",
    "    labels = reuters.categories(story)\n",
    "    train_label_list.append(labels) "
   ]
  },
  {
   "cell_type": "code",
   "execution_count": 19,
   "metadata": {
    "collapsed": true
   },
   "outputs": [],
   "source": [
    "# Flatten the list\n",
    "train_label_list = functools.reduce(add, train_label_list)"
   ]
  },
  {
   "cell_type": "code",
   "execution_count": 20,
   "metadata": {},
   "outputs": [
    {
     "name": "stdout",
     "output_type": "stream",
     "text": [
      "All labels are present in training data\n"
     ]
    }
   ],
   "source": [
    "# get rid of duplicates\n",
    "set_label = list(set(train_label_list))\n",
    "\n",
    "# print the label if it is not present in the test set\n",
    "flag = False\n",
    "for label in label_list:\n",
    "    if label not in set_label:\n",
    "        flag = True\n",
    "        print(label)\n",
    "\n",
    "if flag == True:\n",
    "    print(\"These labels are not in the training data\")\n",
    "else:\n",
    "    print(\"All labels are present in training data\")"
   ]
  },
  {
   "cell_type": "markdown",
   "metadata": {},
   "source": [
    "# Handpick labels that supposedly have distinct vocabulary"
   ]
  },
  {
   "cell_type": "markdown",
   "metadata": {},
   "source": [
    "I will pick 5 labels of topics that use vocabulary that is easy to distinguish. The more distinct the vocabulary that is used to describe the topics, the more precise the model will work on new stories. If the vocabulary is very similar, it will be difficult to predict the topic based on the vocabulary and it is likely that more false positives will occure. It should be unlikely that the same words are used for two topics."
   ]
  },
  {
   "cell_type": "code",
   "execution_count": 21,
   "metadata": {
    "collapsed": true
   },
   "outputs": [],
   "source": [
    "# hand-picking five unrelated topics\n",
    "labels = ['trade', 'ship', 'sugar', 'money-fx', 'jobs']"
   ]
  },
  {
   "cell_type": "code",
   "execution_count": 22,
   "metadata": {},
   "outputs": [
    {
     "name": "stdout",
     "output_type": "stream",
     "text": [
      "['ASIAN', 'EXPORTERS', 'FEAR', 'DAMAGE', 'FROM', 'U', '.', 'S', '.-', 'JAPAN', 'RIFT', 'Mounting', 'trade', 'friction', 'between', 'the', 'U', '.', 'S', '.', 'And', 'Japan', 'has', 'raised', 'fears', 'among', 'many', 'of', 'Asia', \"'\", 's', 'exporting', 'nations', 'that', 'the', 'row', 'could', 'inflict', 'far', '-', 'reaching', 'economic', 'damage', ',', 'businessmen', 'and', 'officials', 'said', '.', 'They', 'told', 'Reuter', 'correspondents', 'in', 'Asian', 'capitals', 'a', 'U', '.', 'S', '.', 'Move', 'against', 'Japan', 'might', 'boost', 'protectionist', 'sentiment', 'in', 'the', 'U', '.', 'S', '.', 'And', 'lead', 'to', 'curbs', 'on', 'American', 'imports', 'of', 'their', 'products', '.', 'But', 'some', 'exporters', 'said', 'that', 'while', 'the', 'conflict', 'would', 'hurt', 'them', 'in', 'the', 'long', '-', 'run', ',', 'in', 'the', 'short', '-', 'term', 'Tokyo', \"'\", 's', 'loss', 'might', 'be', 'their', 'gain', '.', 'The', 'U', '.', 'S', '.', 'Has', 'said', 'it', 'will', 'impose', '300', 'mln', 'dlrs', 'of', 'tariffs', 'on', 'imports', 'of', 'Japanese', 'electronics', 'goods', 'on', 'April', '17', ',', 'in', 'retaliation', 'for', 'Japan', \"'\", 's', 'alleged', 'failure', 'to']\n",
      "['THAI', 'TRADE', 'DEFICIT', 'WIDENS', 'IN', 'FIRST', 'QUARTER', 'Thailand', \"'\", 's', 'trade', 'deficit', 'widened', 'to', '4', '.', '5', 'billion', 'baht', 'in', 'the', 'first', 'quarter', 'of', '1987', 'from', '2', '.', '1', 'billion', 'a', 'year', 'ago', ',', 'the', 'Business', 'Economics', 'Department', 'said', '.', 'It', 'said', 'Janunary', '/', 'March', 'imports', 'rose', 'to', '65', '.', '1', 'billion', 'baht', 'from', '58', '.', '7', 'billion', '.', 'Thailand', \"'\", 's', 'improved', 'business', 'climate', 'this', 'year', 'resulted', 'in', 'a', '27', 'pct', 'increase', 'in', 'imports', 'of', 'raw', 'materials', 'and', 'semi', '-', 'finished', 'products', '.', 'The', 'country', \"'\", 's', 'oil', 'import', 'bill', ',', 'however', ',', 'fell', '23', 'pct', 'in', 'the', 'first', 'quarter', 'due', 'to', 'lower', 'oil', 'prices', '.', 'The', 'department', 'said', 'first', 'quarter', 'exports', 'expanded', 'to', '60', '.', '6', 'billion', 'baht', 'from', '56', '.', '6', 'billion', '.', 'Export', 'growth', 'was', 'smaller', 'than', 'expected', 'due', 'to', 'lower', 'earnings', 'from', 'many', 'key', 'commodities', 'including', 'rice', 'whose', 'earnings', 'declined', '18', 'pct', ',', 'maize', '66']\n",
      "['JAPAN', 'MINISTRY', 'SAYS', 'OPEN', 'FARM', 'TRADE', 'WOULD', 'HIT', 'U', '.', 'S', '.', 'Japan', \"'\", 's', 'Agriculture', 'Ministry', ',', 'angered', 'by', 'U', '.', 'S', '.', 'Demands', 'that', 'Japan', 'open', 'its', 'farm', 'products', 'market', ',', 'will', 'tell', 'U', '.', 'S', '.', 'Officials', 'at', 'talks', 'later', 'this', 'month', 'that', 'liberalisation', 'would', 'harm', 'existing', 'U', '.', 'S', '.', 'Farm', 'exports', 'to', 'Japan', ',', 'a', 'senior', 'ministry', 'official', 'said', '.', '\"', 'Imports', 'from', 'the', 'U', '.', 'S', '.', 'Would', 'drop', 'due', 'to', 'active', 'sales', 'drives', 'by', 'other', 'suppliers', ',\"', 'the', 'official', ',', 'who', 'declined', 'to', 'be', 'named', ',', 'said', '.', '\"', 'Japan', 'is', 'the', 'largest', 'customer', 'for', 'U', '.', 'S', '.', 'Farm', 'products', 'and', 'it', 'is', 'not', 'reasonable', 'for', 'the', 'U', '.', 'S', '.', 'To', 'demand', 'Japan', 'liberalise', 'its', 'farm', 'import', 'market', ',\"', 'he', 'said', '.', 'Agriculture', 'Minister', 'Mutsuki', 'Kato', 'has', 'said', 'if', 'the', 'U', '.', 'S', '.', 'Insists', 'Japan', 'open', 'its', 'protected', 'rice', 'market']\n"
     ]
    }
   ],
   "source": [
    "### Look at some word lists for the label trade\n",
    "\n",
    "trade_fID = reuters.fileids('trade')[0:3]\n",
    "\n",
    "for label in trade_fID:\n",
    "    story = reuters.words(label)\n",
    "    print(story[0:150])"
   ]
  },
  {
   "cell_type": "code",
   "execution_count": 23,
   "metadata": {},
   "outputs": [
    {
     "data": {
      "image/png": "[encoded data removed]",
      "text/plain": [
       "<matplotlib.figure.Figure at 0x246ce680860>"
      ]
     },
     "metadata": {},
     "output_type": "display_data"
    }
   ],
   "source": [
    "# plott the length of the news articles\n",
    "trade_fID = reuters.fileids('trade')\n",
    "story_len={}\n",
    "\n",
    "for label in trade_fID:\n",
    "    story = len(reuters.words(label))\n",
    "    if story in story_len:\n",
    "        story_len[story] += 1\n",
    "    else:\n",
    "        story_len[story] = 1\n",
    "\n",
    "\n",
    "lists = sorted(story_len.items()) # sorted by key, return a list of tuples\n",
    "\n",
    "x, y = zip(*lists) # unpack a list of pairs into two tuples\n",
    "\n",
    "plt.plot(x, y)\n",
    "\n",
    "plt.rcParams['figure.figsize'] = (8, 6)\n",
    "plt.rcParams['font.size'] = 14\n",
    "plt.xlabel(\"Length of stories in words\")  \n",
    "plt.ylabel(\"Number of stories\")    \n",
    "\n",
    "plt.title(\"Length of stories for the label trade\")\n",
    "\n",
    "plt.show()"
   ]
  },
  {
   "cell_type": "code",
   "execution_count": 24,
   "metadata": {},
   "outputs": [
    {
     "name": "stdout",
     "output_type": "stream",
     "text": [
      "['THAI', 'TRADE', 'DEFICIT', 'WIDENS', 'IN', 'FIRST', 'QUARTER', 'Thailand', \"'\", 's', 'trade', 'deficit', 'widened', 'to', '4', '.', '5', 'billion', 'baht', 'in', 'the', 'first', 'quarter', 'of', '1987', 'from', '2', '.', '1', 'billion', 'a', 'year', 'ago', ',', 'the', 'Business', 'Economics', 'Department', 'said', '.', 'It', 'said', 'Janunary', '/', 'March', 'imports', 'rose', 'to', '65', '.', '1', 'billion', 'baht', 'from', '58', '.', '7', 'billion', '.', 'Thailand', \"'\", 's', 'improved', 'business', 'climate', 'this', 'year', 'resulted', 'in', 'a', '27', 'pct', 'increase', 'in', 'imports', 'of', 'raw', 'materials', 'and', 'semi', '-', 'finished', 'products', '.', 'The', 'country', \"'\", 's', 'oil', 'import', 'bill', ',', 'however', ',', 'fell', '23', 'pct', 'in', 'the', 'first', 'quarter', 'due', 'to', 'lower', 'oil', 'prices', '.', 'The', 'department', 'said', 'first', 'quarter', 'exports', 'expanded', 'to', '60', '.', '6', 'billion', 'baht', 'from', '56', '.', '6', 'billion', '.', 'Export', 'growth', 'was', 'smaller', 'than', 'expected', 'due', 'to', 'lower', 'earnings', 'from', 'many', 'key', 'commodities', 'including', 'rice', 'whose', 'earnings', 'declined', '18', 'pct', ',', 'maize', '66']\n",
      "['EC', 'SUGAR', 'TENDER', 'HARD', 'TO', 'PREDICT', '-', 'LONDON', 'TRADE', 'The', 'outcome', 'of', 'today', \"'\", 's', 'European', 'Community', '(', 'EC', ')', 'white', 'sugar', 'tender', 'is', 'extremely', 'difficult', 'to', 'predict', 'after', 'last', 'week', \"'\", 's', 'substantial', 'award', 'of', '102', ',', '350', 'tonnes', 'at', 'the', 'highest', 'ever', 'rebate', 'of', '46', '.', '864', 'European', 'currency', 'units', '(', 'Ecus', ')', 'per', '100', 'kilos', ',', 'traders', 'said', '.', 'Some', 'said', 'they', 'believed', 'the', 'tonnage', 'would', 'probably', 'be', 'smaller', ',', 'at', 'around', '60', ',', '000', 'tonnes', ',', 'but', 'declined', 'to', 'give', 'a', 'view', 'on', 'the', 'likely', 'restitution', '.', 'Last', 'week', ',', 'the', 'European', 'Commission', 'accepted', '785', ',', '000', 'tonnes', 'of', 'sugar', 'into', 'intervention', 'by', 'operators', 'protesting', 'about', 'low', 'rebates', '.', 'This', 'might', 'be', 'a', 'determining', 'factor', 'in', 'today', \"'\", 's', 'result', ',', 'they', 'added', '.']\n",
      "['NORTH', 'YEMEN', 'CALLS', 'SUGAR', 'BUYING', 'TENDER', '-', 'TRADE', 'North', 'Yemen', 'has', 'called', 'a', 'buying', 'tender', 'for', 'Saturday', 'for', 'the', 'purchase', 'of', '30', ',', '000', 'tonnes', 'of', 'white', 'sugar', 'for', 'arrival', 'in', 'June', ',', 'traders', 'said', '.']\n"
     ]
    }
   ],
   "source": [
    "# looking at some word lists for the label 'sugar'\n",
    "sugar_fID = reuters.fileids('sugar')[0:3]\n",
    "\n",
    "for label in sugar_fID:\n",
    "    story = reuters.words(label)\n",
    "    print(story[0:150])"
   ]
  },
  {
   "cell_type": "code",
   "execution_count": 25,
   "metadata": {},
   "outputs": [
    {
     "data": {
      "image/png": "[encoded data removed]",
      "text/plain": [
       "<matplotlib.figure.Figure at 0x246ce973470>"
      ]
     },
     "metadata": {},
     "output_type": "display_data"
    }
   ],
   "source": [
    "# plott the length of the news articles\n",
    "trade_fID = reuters.fileids('sugar')\n",
    "story_len={}\n",
    "\n",
    "for label in trade_fID:\n",
    "    story = len(reuters.words(label))\n",
    "    if story in story_len:\n",
    "        story_len[story] += 1\n",
    "    else:\n",
    "        story_len[story] = 1\n",
    "\n",
    "\n",
    "lists = sorted(story_len.items()) # sorted by key, return a list of tuples\n",
    "\n",
    "x, y = zip(*lists) # unpack a list of pairs into two tuples\n",
    "\n",
    "plt.plot(x, y)\n",
    "\n",
    "plt.rcParams['figure.figsize'] = (8, 6)\n",
    "plt.rcParams['font.size'] = 14\n",
    "plt.xlabel(\"Length of stories in words\")  \n",
    "plt.ylabel(\"Number of stories\")    \n",
    "\n",
    "plt.title(\"Length of stories for the label sugar\")\n",
    "\n",
    "plt.show()"
   ]
  },
  {
   "cell_type": "markdown",
   "metadata": {},
   "source": [
    "Headlines in the Reuters Corpus are capitalized. Thus, I will have to lowercase all words to make them comparable. Otherwise the computer will categorise them as different words.\n",
    "\n",
    "Many words seem to appear in stories for both topics. Also, punctuation is included in the word list. Will need further processing to destille vocabulary.\n",
    "\n",
    "Most stories are longer than 500 words so that most of the vocabulary for the stories will be used for the analysis."
   ]
  },
  {
   "cell_type": "markdown",
   "metadata": {},
   "source": [
    "## Further Pre-Processing on Words Lists"
   ]
  },
  {
   "cell_type": "code",
   "execution_count": 26,
   "metadata": {
    "collapsed": true
   },
   "outputs": [],
   "source": [
    "# create dataframe with text and labels in columns\n",
    "# remove punctuation from text\n",
    "import string\n",
    "import re\n",
    "\n",
    "columns = ['story_ID', 'story_text', 'label']\n",
    "data_set = pd.DataFrame(index= [], columns=columns)\n",
    "\n",
    "for label in labels:\n",
    "    # retrieve all storyIDs related to trade\n",
    "    storyIDs = reuters.fileids(label)\n",
    "    # filter for training data\n",
    "    IDs_training = [Id for Id in storyIDs if Id.startswith('training')]\n",
    "    # get nested list of words of story IDs\n",
    "    word_list = []\n",
    "    for storyID in IDs_training:\n",
    "        label_words = list(reuters.words(storyID))\n",
    "        # remove punctuation from the list\n",
    "        label_words_pct = [re.sub(r'[^A-Za-z0-9]+', '', x) for x in label_words]\n",
    "        label_words_clean = [x for x in label_words_pct if x]\n",
    "        # remove numbers\n",
    "        only_words = [word for word in label_words_clean if not word.isdigit()]\n",
    "        word_list.append(only_words)\n",
    "    # Create pandas dataframe with all train IDs and the story text\n",
    "    d = {'story_ID': IDs_training, 'story_text': word_list, 'label': label}\n",
    "    df = pd.DataFrame(data=d)\n",
    "    data_set = pd.concat([data_set, df], ignore_index=True)\n",
    "    "
   ]
  },
  {
   "cell_type": "code",
   "execution_count": 27,
   "metadata": {},
   "outputs": [
    {
     "data": {
      "text/plain": [
       "(1275, 3)"
      ]
     },
     "execution_count": 27,
     "metadata": {},
     "output_type": "execute_result"
    }
   ],
   "source": [
    "# data set to predict a label based on the vocabulary of the present labels\n",
    "data_set.shape"
   ]
  },
  {
   "cell_type": "code",
   "execution_count": 28,
   "metadata": {},
   "outputs": [
    {
     "data": {
      "text/html": [
       "<div>\n",
       "<style>\n",
       "    .dataframe thead tr:only-child th {\n",
       "        text-align: right;\n",
       "    }\n",
       "\n",
       "    .dataframe thead th {\n",
       "        text-align: left;\n",
       "    }\n",
       "\n",
       "    .dataframe tbody tr th {\n",
       "        vertical-align: top;\n",
       "    }\n",
       "</style>\n",
       "<table border=\"1\" class=\"dataframe\">\n",
       "  <thead>\n",
       "    <tr style=\"text-align: right;\">\n",
       "      <th></th>\n",
       "      <th>label</th>\n",
       "      <th>story_ID</th>\n",
       "      <th>story_text</th>\n",
       "    </tr>\n",
       "  </thead>\n",
       "  <tbody>\n",
       "    <tr>\n",
       "      <th>0</th>\n",
       "      <td>trade</td>\n",
       "      <td>training/10005</td>\n",
       "      <td>[U, K, GROWING, IMPATIENT, WITH, JAPAN, THATCH...</td>\n",
       "    </tr>\n",
       "    <tr>\n",
       "      <th>1</th>\n",
       "      <td>trade</td>\n",
       "      <td>training/10209</td>\n",
       "      <td>[WHITE, HOUSE, UNIT, DECIDES, ON, SEMICONDUCTO...</td>\n",
       "    </tr>\n",
       "    <tr>\n",
       "      <th>2</th>\n",
       "      <td>trade</td>\n",
       "      <td>training/1022</td>\n",
       "      <td>[CHINA, CALLS, FOR, BETTER, TRADE, DEAL, WITH,...</td>\n",
       "    </tr>\n",
       "    <tr>\n",
       "      <th>3</th>\n",
       "      <td>trade</td>\n",
       "      <td>training/10255</td>\n",
       "      <td>[GATT, WARNS, U, S, ON, FEDERAL, BUDGET, PROTE...</td>\n",
       "    </tr>\n",
       "    <tr>\n",
       "      <th>4</th>\n",
       "      <td>trade</td>\n",
       "      <td>training/10264</td>\n",
       "      <td>[WHITE, HOUSE, PANEL, SAID, URGING, JAPAN, RET...</td>\n",
       "    </tr>\n",
       "  </tbody>\n",
       "</table>\n",
       "</div>"
      ],
      "text/plain": [
       "   label        story_ID                                         story_text\n",
       "0  trade  training/10005  [U, K, GROWING, IMPATIENT, WITH, JAPAN, THATCH...\n",
       "1  trade  training/10209  [WHITE, HOUSE, UNIT, DECIDES, ON, SEMICONDUCTO...\n",
       "2  trade   training/1022  [CHINA, CALLS, FOR, BETTER, TRADE, DEAL, WITH,...\n",
       "3  trade  training/10255  [GATT, WARNS, U, S, ON, FEDERAL, BUDGET, PROTE...\n",
       "4  trade  training/10264  [WHITE, HOUSE, PANEL, SAID, URGING, JAPAN, RET..."
      ]
     },
     "execution_count": 28,
     "metadata": {},
     "output_type": "execute_result"
    }
   ],
   "source": [
    "data_set.head()"
   ]
  },
  {
   "cell_type": "markdown",
   "metadata": {},
   "source": [
    "## What percentage of stories is labelled to each topic in training set?"
   ]
  },
  {
   "cell_type": "code",
   "execution_count": 29,
   "metadata": {},
   "outputs": [
    {
     "data": {
      "text/plain": [
       "label\n",
       "jobs         46\n",
       "money-fx    538\n",
       "ship        197\n",
       "sugar       126\n",
       "trade       368\n",
       "Name: story_ID, dtype: int64"
      ]
     },
     "execution_count": 29,
     "metadata": {},
     "output_type": "execute_result"
    }
   ],
   "source": [
    "# What percentage of stories belongs to each label\n",
    "percentage_label = data_set.groupby('label')['story_ID'].count()\n",
    "percentage_label"
   ]
  },
  {
   "cell_type": "code",
   "execution_count": 30,
   "metadata": {},
   "outputs": [
    {
     "data": {
      "image/png": "[encoded data removed]",
      "text/plain": [
       "<matplotlib.figure.Figure at 0x246cea45a90>"
      ]
     },
     "metadata": {},
     "output_type": "display_data"
    }
   ],
   "source": [
    "percentage_label.plot(kind='bar')\n",
    "\n",
    "plt.rcParams['figure.figsize'] = (7, 5)\n",
    "plt.rcParams['font.size'] = 14\n",
    "plt.xlabel(\"Labels\")    \n",
    "plt.title(\"Number of labelled stories per category in training set\")\n",
    "\n",
    "plt.show()"
   ]
  },
  {
   "cell_type": "code",
   "execution_count": 31,
   "metadata": {},
   "outputs": [
    {
     "name": "stdout",
     "output_type": "stream",
     "text": [
      "jobs 3 percent\n",
      "money-fx 36 percent\n",
      "ship 13 percent\n",
      "sugar 8 percent\n",
      "trade 25 percent\n"
     ]
    }
   ],
   "source": [
    "# get the percentage of labels in each category\n",
    "\n",
    "import math\n",
    "percentage = []\n",
    "\n",
    "labels = percentage_label.keys().tolist()\n",
    "\n",
    "for i,label in enumerate(percentage_label):\n",
    "    print(str(labels[i]) + ' '+ str(math.floor(label/1467*100)) + \" percent\")\n",
    "    \n",
    "    percentage.append((labels[i], math.floor(label/1467*100)))"
   ]
  },
  {
   "cell_type": "code",
   "execution_count": 32,
   "metadata": {},
   "outputs": [
    {
     "data": {
      "text/plain": [
       "[('jobs', 3), ('money-fx', 36), ('ship', 13), ('sugar', 8), ('trade', 25)]"
      ]
     },
     "execution_count": 32,
     "metadata": {},
     "output_type": "execute_result"
    }
   ],
   "source": [
    "percentage"
   ]
  },
  {
   "cell_type": "markdown",
   "metadata": {},
   "source": [
    "## Get vocabulary to train model"
   ]
  },
  {
   "cell_type": "markdown",
   "metadata": {},
   "source": [
    "I assume that the most important vocabulary will be in the headline and the first 500 words of a story. Journalists usually refer in the headline and the first paragraph to the topic they are covering. Thus, I will only use that vocabulary for predictions.\n",
    "\n",
    "Also, as we have seen from looking at sugar and trade labels, most stories are shorter than 500 words."
   ]
  },
  {
   "cell_type": "code",
   "execution_count": 33,
   "metadata": {
    "collapsed": true
   },
   "outputs": [],
   "source": [
    "# assumption is that most important content will be present in first 500 words of the story and the headline\n",
    "# only take the first 500 words from each story\n",
    "\n",
    "data_set['first_500'] = data_set[['story_text'][0:500]]"
   ]
  },
  {
   "cell_type": "code",
   "execution_count": 34,
   "metadata": {
    "collapsed": true
   },
   "outputs": [],
   "source": [
    "# create new column that has text data as string\n",
    "# combining words to string to be able to apply to countvectorizer\n",
    "data_set['text_string']=data_set['first_500'].transform(lambda x: ' '.join(x))"
   ]
  },
  {
   "cell_type": "code",
   "execution_count": 35,
   "metadata": {},
   "outputs": [
    {
     "data": {
      "text/html": [
       "<div>\n",
       "<style>\n",
       "    .dataframe thead tr:only-child th {\n",
       "        text-align: right;\n",
       "    }\n",
       "\n",
       "    .dataframe thead th {\n",
       "        text-align: left;\n",
       "    }\n",
       "\n",
       "    .dataframe tbody tr th {\n",
       "        vertical-align: top;\n",
       "    }\n",
       "</style>\n",
       "<table border=\"1\" class=\"dataframe\">\n",
       "  <thead>\n",
       "    <tr style=\"text-align: right;\">\n",
       "      <th></th>\n",
       "      <th>label</th>\n",
       "      <th>story_ID</th>\n",
       "      <th>story_text</th>\n",
       "      <th>first_500</th>\n",
       "      <th>text_string</th>\n",
       "    </tr>\n",
       "  </thead>\n",
       "  <tbody>\n",
       "    <tr>\n",
       "      <th>1270</th>\n",
       "      <td>jobs</td>\n",
       "      <td>training/9751</td>\n",
       "      <td>[KEATING, REVISES, DOWN, AUSTRALIAN, GROWTH, F...</td>\n",
       "      <td>[KEATING, REVISES, DOWN, AUSTRALIAN, GROWTH, F...</td>\n",
       "      <td>KEATING REVISES DOWN AUSTRALIAN GROWTH FORECAS...</td>\n",
       "    </tr>\n",
       "    <tr>\n",
       "      <th>1271</th>\n",
       "      <td>jobs</td>\n",
       "      <td>training/9805</td>\n",
       "      <td>[FRENCH, UNEMPLOYMENT, RISES, TO, SEASONALLY, ...</td>\n",
       "      <td>[FRENCH, UNEMPLOYMENT, RISES, TO, SEASONALLY, ...</td>\n",
       "      <td>FRENCH UNEMPLOYMENT RISES TO SEASONALLY ADJUST...</td>\n",
       "    </tr>\n",
       "    <tr>\n",
       "      <th>1272</th>\n",
       "      <td>jobs</td>\n",
       "      <td>training/9812</td>\n",
       "      <td>[FRENCH, FEBRUARY, UNEMPLOYMENT, HITS, RECORD,...</td>\n",
       "      <td>[FRENCH, FEBRUARY, UNEMPLOYMENT, HITS, RECORD,...</td>\n",
       "      <td>FRENCH FEBRUARY UNEMPLOYMENT HITS RECORD MLN F...</td>\n",
       "    </tr>\n",
       "    <tr>\n",
       "      <th>1273</th>\n",
       "      <td>jobs</td>\n",
       "      <td>training/9834</td>\n",
       "      <td>[U, S, FIRST, TIME, JOBLESS, CLAIMS, ROSE, IN,...</td>\n",
       "      <td>[U, S, FIRST, TIME, JOBLESS, CLAIMS, ROSE, IN,...</td>\n",
       "      <td>U S FIRST TIME JOBLESS CLAIMS ROSE IN WEEK New...</td>\n",
       "    </tr>\n",
       "    <tr>\n",
       "      <th>1274</th>\n",
       "      <td>jobs</td>\n",
       "      <td>training/9897</td>\n",
       "      <td>[KEATING, REVISES, DOWN, AUSTRALIAN, GROWTH, F...</td>\n",
       "      <td>[KEATING, REVISES, DOWN, AUSTRALIAN, GROWTH, F...</td>\n",
       "      <td>KEATING REVISES DOWN AUSTRALIAN GROWTH FORECAS...</td>\n",
       "    </tr>\n",
       "  </tbody>\n",
       "</table>\n",
       "</div>"
      ],
      "text/plain": [
       "     label       story_ID                                         story_text  \\\n",
       "1270  jobs  training/9751  [KEATING, REVISES, DOWN, AUSTRALIAN, GROWTH, F...   \n",
       "1271  jobs  training/9805  [FRENCH, UNEMPLOYMENT, RISES, TO, SEASONALLY, ...   \n",
       "1272  jobs  training/9812  [FRENCH, FEBRUARY, UNEMPLOYMENT, HITS, RECORD,...   \n",
       "1273  jobs  training/9834  [U, S, FIRST, TIME, JOBLESS, CLAIMS, ROSE, IN,...   \n",
       "1274  jobs  training/9897  [KEATING, REVISES, DOWN, AUSTRALIAN, GROWTH, F...   \n",
       "\n",
       "                                              first_500  \\\n",
       "1270  [KEATING, REVISES, DOWN, AUSTRALIAN, GROWTH, F...   \n",
       "1271  [FRENCH, UNEMPLOYMENT, RISES, TO, SEASONALLY, ...   \n",
       "1272  [FRENCH, FEBRUARY, UNEMPLOYMENT, HITS, RECORD,...   \n",
       "1273  [U, S, FIRST, TIME, JOBLESS, CLAIMS, ROSE, IN,...   \n",
       "1274  [KEATING, REVISES, DOWN, AUSTRALIAN, GROWTH, F...   \n",
       "\n",
       "                                            text_string  \n",
       "1270  KEATING REVISES DOWN AUSTRALIAN GROWTH FORECAS...  \n",
       "1271  FRENCH UNEMPLOYMENT RISES TO SEASONALLY ADJUST...  \n",
       "1272  FRENCH FEBRUARY UNEMPLOYMENT HITS RECORD MLN F...  \n",
       "1273  U S FIRST TIME JOBLESS CLAIMS ROSE IN WEEK New...  \n",
       "1274  KEATING REVISES DOWN AUSTRALIAN GROWTH FORECAS...  "
      ]
     },
     "execution_count": 35,
     "metadata": {},
     "output_type": "execute_result"
    }
   ],
   "source": [
    "data_set.tail()"
   ]
  },
  {
   "cell_type": "markdown",
   "metadata": {},
   "source": [
    "## Look at Word Frequency for the Labels\n",
    "\n",
    "To get a better idea of the vocabulary used for different topics, I will look at the most frequently used words in the articles.\n",
    "\n",
    "I will take the label 'sugar' and 'jobs' as examples."
   ]
  },
  {
   "cell_type": "code",
   "execution_count": 36,
   "metadata": {
    "collapsed": true
   },
   "outputs": [],
   "source": [
    "# filtering for series containing the words related to 'jobs'\n",
    "jobs = data_set[(data_set['label']=='jobs')]['first_500']"
   ]
  },
  {
   "cell_type": "code",
   "execution_count": 37,
   "metadata": {},
   "outputs": [
    {
     "data": {
      "text/plain": [
       "[('the', 499),\n",
       " ('in', 328),\n",
       " ('to', 216),\n",
       " ('of', 213),\n",
       " ('pct', 193),\n",
       " ('and', 161),\n",
       " ('a', 157),\n",
       " ('said', 142),\n",
       " ('The', 102),\n",
       " ('year', 95),\n",
       " ('from', 93),\n",
       " ('unemployment', 79),\n",
       " ('February', 75),\n",
       " ('s', 74),\n",
       " ('January', 67),\n",
       " ('was', 60),\n",
       " ('by', 54),\n",
       " ('is', 53),\n",
       " ('for', 52),\n",
       " ('at', 51),\n",
       " ('last', 50),\n",
       " ('with', 49),\n",
       " ('that', 49),\n",
       " ('rate', 48),\n",
       " ('mln', 45),\n",
       " ('government', 39),\n",
       " ('S', 39),\n",
       " ('growth', 37),\n",
       " ('U', 37),\n",
       " ('this', 35)]"
      ]
     },
     "execution_count": 37,
     "metadata": {},
     "output_type": "execute_result"
    }
   ],
   "source": [
    "jobs.tolist()\n",
    "\n",
    "job_words = []\n",
    "for item in jobs:\n",
    "    job_words += item\n",
    "\n",
    "# Counting the frequency of words\n",
    "from collections import Counter\n",
    "c = Counter(job_words)\n",
    "c.most_common(30)"
   ]
  },
  {
   "cell_type": "code",
   "execution_count": 38,
   "metadata": {
    "collapsed": true
   },
   "outputs": [],
   "source": [
    "# filtering for series containing the words related to 'sugar'\n",
    "sugar = data_set[(data_set['label']=='sugar')]['first_500']"
   ]
  },
  {
   "cell_type": "code",
   "execution_count": 39,
   "metadata": {},
   "outputs": [
    {
     "data": {
      "text/plain": [
       "[('the', 1268),\n",
       " ('to', 785),\n",
       " ('of', 668),\n",
       " ('and', 532),\n",
       " ('in', 527),\n",
       " ('said', 481),\n",
       " ('sugar', 418),\n",
       " ('a', 416),\n",
       " ('tonnes', 309),\n",
       " ('for', 293),\n",
       " ('The', 241),\n",
       " ('is', 211),\n",
       " ('mln', 203),\n",
       " ('from', 187),\n",
       " ('at', 183),\n",
       " ('year', 163),\n",
       " ('s', 162),\n",
       " ('be', 151),\n",
       " ('by', 141),\n",
       " ('was', 135),\n",
       " ('it', 132),\n",
       " ('with', 125),\n",
       " ('EC', 123),\n",
       " ('on', 122),\n",
       " ('that', 122),\n",
       " ('are', 121),\n",
       " ('have', 116),\n",
       " ('this', 115),\n",
       " ('U', 115),\n",
       " ('will', 114)]"
      ]
     },
     "execution_count": 39,
     "metadata": {},
     "output_type": "execute_result"
    }
   ],
   "source": [
    "sugar.tolist()\n",
    "\n",
    "sugar_words = []\n",
    "for item in sugar:\n",
    "    sugar_words += item\n",
    "\n",
    "# Counting the frequency of words    \n",
    "from collections import Counter\n",
    "c = Counter(sugar_words)\n",
    "c.most_common(30)"
   ]
  },
  {
   "cell_type": "markdown",
   "metadata": {},
   "source": [
    "Most of the words used most frequent are stop words. We will have better results if we remove them."
   ]
  },
  {
   "cell_type": "markdown",
   "metadata": {},
   "source": [
    "## Transform Words into a Feature Matrix using CountVectorizer\n",
    "\n",
    "Define training set and remove stop words from string\n",
    "\n",
    "Transform relevant text into a matrix"
   ]
  },
  {
   "cell_type": "code",
   "execution_count": 40,
   "metadata": {
    "collapsed": true
   },
   "outputs": [],
   "source": [
    "# define X_train and y_train\n",
    "\n",
    "X_train = data_set.text_string\n",
    "y_train = data_set.label"
   ]
  },
  {
   "cell_type": "code",
   "execution_count": 41,
   "metadata": {
    "collapsed": true
   },
   "outputs": [],
   "source": [
    "# Settings for the first vectorizer:\n",
    "# Remove English stop words\n",
    "# setting of CountVectorizer will transform all words to lower case\n",
    "# only include words that occure at least two times\n",
    "\n",
    "# initialise vectoriser\n",
    "vect1 = CountVectorizer(stop_words='english', min_df=2)\n",
    "\n",
    "# apply vectorisation on training set\n",
    "X_train_dtm = vect1.fit_transform(X_train)"
   ]
  },
  {
   "cell_type": "code",
   "execution_count": 42,
   "metadata": {},
   "outputs": [
    {
     "data": {
      "text/plain": [
       "{'analyzer': 'word',\n",
       " 'binary': False,\n",
       " 'decode_error': 'strict',\n",
       " 'dtype': numpy.int64,\n",
       " 'encoding': 'utf-8',\n",
       " 'input': 'content',\n",
       " 'lowercase': True,\n",
       " 'max_df': 1.0,\n",
       " 'max_features': None,\n",
       " 'min_df': 2,\n",
       " 'ngram_range': (1, 1),\n",
       " 'preprocessor': None,\n",
       " 'stop_words': 'english',\n",
       " 'strip_accents': None,\n",
       " 'token_pattern': '(?u)\\\\b\\\\w\\\\w+\\\\b',\n",
       " 'tokenizer': None,\n",
       " 'vocabulary': None}"
      ]
     },
     "execution_count": 42,
     "metadata": {},
     "output_type": "execute_result"
    }
   ],
   "source": [
    "# look at parameter setting in the vectorizer\n",
    "vect1.get_params()"
   ]
  },
  {
   "cell_type": "code",
   "execution_count": 43,
   "metadata": {},
   "outputs": [
    {
     "data": {
      "text/plain": [
       "(1275, 6250)"
      ]
     },
     "execution_count": 43,
     "metadata": {},
     "output_type": "execute_result"
    }
   ],
   "source": [
    "# Rows are news stories, columns are terms (here individual words)\n",
    "# This tells us that data was transformed into a matrix with 1467 data points and 6746 features\n",
    "# 1467 news stories with 6746 unique words\n",
    "\n",
    "X_train_dtm.shape"
   ]
  },
  {
   "cell_type": "code",
   "execution_count": 44,
   "metadata": {},
   "outputs": [
    {
     "name": "stdout",
     "output_type": "stream",
     "text": [
      "['11th', '14th', '1930s', '1950s', '1960s', '1970s', '1980s', '4th', 'aa', 'abandon', 'abandoned', 'abated', 'abates', 'abbas', 'aberrational', 'abide', 'abiding', 'ability', 'able', 'abolish', 'abolished', 'abolition', 'abroad', 'abrogated', 'absence', 'absolutely', 'absorb', 'absorbed', 'abu', 'abuses', 'accelerate', 'accelerated', 'accelerating', 'accentuating', 'accept', 'acceptable', 'acceptance', 'accepted', 'access', 'accession', 'accident', 'accidents', 'accompany', 'accompanying', 'accord', 'accordance', 'according', 'accordingly', 'accords', 'account', 'accounted']\n"
     ]
    }
   ],
   "source": [
    "# print the first 50 features\n",
    "print((vect1.get_feature_names()[0:51]))"
   ]
  },
  {
   "cell_type": "markdown",
   "metadata": {
    "collapsed": true
   },
   "source": [
    "## Prepare the testing data"
   ]
  },
  {
   "cell_type": "code",
   "execution_count": 45,
   "metadata": {
    "collapsed": true
   },
   "outputs": [],
   "source": [
    "labels = ['trade', 'ship', 'sugar', 'money-fx', 'jobs']\n",
    "columns = ['story_ID', 'story_text', 'label']\n",
    "data_test = pd.DataFrame(index= [], columns=columns)\n",
    "\n",
    "for label in labels:\n",
    "    # retrieve all storyIDs related to labels\n",
    "    storyIDs = reuters.fileids(label)\n",
    "    # filter for test data\n",
    "    IDs_test = [Id for Id in storyIDs if Id.startswith('test')]\n",
    "    # get nested list of words of story IDs\n",
    "    word_list = []\n",
    "    for storyID in IDs_test:\n",
    "        label_words = list(reuters.words(storyID))\n",
    "        # remove punctuation from the list\n",
    "        label_words_pct = [re.sub(r'[^A-Za-z0-9]+', '', x) for x in label_words]\n",
    "        label_words_clean = [x for x in label_words_pct if x]\n",
    "        # remove numbers\n",
    "        only_words = [word for word in label_words_clean if not word.isdigit()]\n",
    "        word_list.append(only_words)\n",
    "    # Create pandas dataframe with all train IDs and the story text\n",
    "    d = {'story_ID': IDs_test, 'story_text': word_list, 'label': label}\n",
    "    df = pd.DataFrame(data=d)\n",
    "    data_test = pd.concat([data_test, df], ignore_index=True)"
   ]
  },
  {
   "cell_type": "code",
   "execution_count": 46,
   "metadata": {},
   "outputs": [
    {
     "data": {
      "text/plain": [
       "(442, 3)"
      ]
     },
     "execution_count": 46,
     "metadata": {},
     "output_type": "execute_result"
    }
   ],
   "source": [
    "# The test data has 542 documents\n",
    "data_test.shape"
   ]
  },
  {
   "cell_type": "code",
   "execution_count": 47,
   "metadata": {
    "collapsed": true
   },
   "outputs": [],
   "source": [
    "# Also retrieve first 500 words from test data\n",
    "data_test['first_500'] = data_test[['story_text'][0:500]]"
   ]
  },
  {
   "cell_type": "code",
   "execution_count": 48,
   "metadata": {
    "collapsed": true
   },
   "outputs": [],
   "source": [
    "# join words together in text_string column\n",
    "data_test['text_string']=data_test['first_500'].transform(lambda x: ' '.join(x))"
   ]
  },
  {
   "cell_type": "code",
   "execution_count": 49,
   "metadata": {},
   "outputs": [
    {
     "data": {
      "text/plain": [
       "(442, 5)"
      ]
     },
     "execution_count": 49,
     "metadata": {},
     "output_type": "execute_result"
    }
   ],
   "source": [
    "data_test.shape"
   ]
  },
  {
   "cell_type": "code",
   "execution_count": 50,
   "metadata": {},
   "outputs": [
    {
     "data": {
      "text/html": [
       "<div>\n",
       "<style>\n",
       "    .dataframe thead tr:only-child th {\n",
       "        text-align: right;\n",
       "    }\n",
       "\n",
       "    .dataframe thead th {\n",
       "        text-align: left;\n",
       "    }\n",
       "\n",
       "    .dataframe tbody tr th {\n",
       "        vertical-align: top;\n",
       "    }\n",
       "</style>\n",
       "<table border=\"1\" class=\"dataframe\">\n",
       "  <thead>\n",
       "    <tr style=\"text-align: right;\">\n",
       "      <th></th>\n",
       "      <th>label</th>\n",
       "      <th>story_ID</th>\n",
       "      <th>story_text</th>\n",
       "      <th>first_500</th>\n",
       "      <th>text_string</th>\n",
       "    </tr>\n",
       "  </thead>\n",
       "  <tbody>\n",
       "    <tr>\n",
       "      <th>437</th>\n",
       "      <td>jobs</td>\n",
       "      <td>test/19000</td>\n",
       "      <td>[JOINT, ACTION, SAID, VITAL, TO, BOOST, WORLD,...</td>\n",
       "      <td>[JOINT, ACTION, SAID, VITAL, TO, BOOST, WORLD,...</td>\n",
       "      <td>JOINT ACTION SAID VITAL TO BOOST WORLD GROWTH ...</td>\n",
       "    </tr>\n",
       "    <tr>\n",
       "      <th>438</th>\n",
       "      <td>jobs</td>\n",
       "      <td>test/19985</td>\n",
       "      <td>[Japan, May, unemployment, record, pct, pct, i...</td>\n",
       "      <td>[Japan, May, unemployment, record, pct, pct, i...</td>\n",
       "      <td>Japan May unemployment record pct pct in April...</td>\n",
       "    </tr>\n",
       "    <tr>\n",
       "      <th>439</th>\n",
       "      <td>jobs</td>\n",
       "      <td>test/19986</td>\n",
       "      <td>[JAPAN, UNEMPLOYMENT, RISES, TO, RECORD, PCT, ...</td>\n",
       "      <td>[JAPAN, UNEMPLOYMENT, RISES, TO, RECORD, PCT, ...</td>\n",
       "      <td>JAPAN UNEMPLOYMENT RISES TO RECORD PCT IN MAY ...</td>\n",
       "    </tr>\n",
       "    <tr>\n",
       "      <th>440</th>\n",
       "      <td>jobs</td>\n",
       "      <td>test/20248</td>\n",
       "      <td>[OCT, OCT]</td>\n",
       "      <td>[OCT, OCT]</td>\n",
       "      <td>OCT OCT</td>\n",
       "    </tr>\n",
       "    <tr>\n",
       "      <th>441</th>\n",
       "      <td>jobs</td>\n",
       "      <td>test/21525</td>\n",
       "      <td>[HIGHER, SPENDING, EXPECTED, IN, MALAYSIA, S, ...</td>\n",
       "      <td>[HIGHER, SPENDING, EXPECTED, IN, MALAYSIA, S, ...</td>\n",
       "      <td>HIGHER SPENDING EXPECTED IN MALAYSIA S BUDGET ...</td>\n",
       "    </tr>\n",
       "  </tbody>\n",
       "</table>\n",
       "</div>"
      ],
      "text/plain": [
       "    label    story_ID                                         story_text  \\\n",
       "437  jobs  test/19000  [JOINT, ACTION, SAID, VITAL, TO, BOOST, WORLD,...   \n",
       "438  jobs  test/19985  [Japan, May, unemployment, record, pct, pct, i...   \n",
       "439  jobs  test/19986  [JAPAN, UNEMPLOYMENT, RISES, TO, RECORD, PCT, ...   \n",
       "440  jobs  test/20248                                         [OCT, OCT]   \n",
       "441  jobs  test/21525  [HIGHER, SPENDING, EXPECTED, IN, MALAYSIA, S, ...   \n",
       "\n",
       "                                             first_500  \\\n",
       "437  [JOINT, ACTION, SAID, VITAL, TO, BOOST, WORLD,...   \n",
       "438  [Japan, May, unemployment, record, pct, pct, i...   \n",
       "439  [JAPAN, UNEMPLOYMENT, RISES, TO, RECORD, PCT, ...   \n",
       "440                                         [OCT, OCT]   \n",
       "441  [HIGHER, SPENDING, EXPECTED, IN, MALAYSIA, S, ...   \n",
       "\n",
       "                                           text_string  \n",
       "437  JOINT ACTION SAID VITAL TO BOOST WORLD GROWTH ...  \n",
       "438  Japan May unemployment record pct pct in April...  \n",
       "439  JAPAN UNEMPLOYMENT RISES TO RECORD PCT IN MAY ...  \n",
       "440                                            OCT OCT  \n",
       "441  HIGHER SPENDING EXPECTED IN MALAYSIA S BUDGET ...  "
      ]
     },
     "execution_count": 50,
     "metadata": {},
     "output_type": "execute_result"
    }
   ],
   "source": [
    "data_test.tail()"
   ]
  },
  {
   "cell_type": "markdown",
   "metadata": {},
   "source": [
    "# What percentage of stories is labelled to each topic in test set?"
   ]
  },
  {
   "cell_type": "code",
   "execution_count": 51,
   "metadata": {},
   "outputs": [
    {
     "data": {
      "text/plain": [
       "label\n",
       "jobs         21\n",
       "money-fx    179\n",
       "ship         89\n",
       "sugar        36\n",
       "trade       117\n",
       "Name: story_ID, dtype: int64"
      ]
     },
     "execution_count": 51,
     "metadata": {},
     "output_type": "execute_result"
    }
   ],
   "source": [
    "percentage_label_test = data_test.groupby('label')['story_ID'].count()\n",
    "percentage_label_test"
   ]
  },
  {
   "cell_type": "code",
   "execution_count": 52,
   "metadata": {},
   "outputs": [
    {
     "data": {
      "image/png": "[encoded data removed]",
      "text/plain": [
       "<matplotlib.figure.Figure at 0x246d0dc6c88>"
      ]
     },
     "metadata": {},
     "output_type": "display_data"
    }
   ],
   "source": [
    "percentage_label_test.plot(kind='bar')\n",
    "\n",
    "plt.rcParams['figure.figsize'] = (7, 5)\n",
    "plt.rcParams['font.size'] = 14\n",
    "plt.xlabel(\"Labels\")    \n",
    "plt.title(\"Number of labelled stories per category in training set\")\n",
    "\n",
    "plt.show()"
   ]
  },
  {
   "cell_type": "code",
   "execution_count": 53,
   "metadata": {},
   "outputs": [
    {
     "name": "stdout",
     "output_type": "stream",
     "text": [
      "jobs 3 percent\n",
      "money-fx 33 percent\n",
      "ship 16 percent\n",
      "sugar 6 percent\n",
      "trade 21 percent\n"
     ]
    }
   ],
   "source": [
    "# Create list with tuples to evaluate the model we are creating against a model that picks labels based on probability\n",
    "import math\n",
    "percentage_test = []\n",
    "\n",
    "labels = percentage_label_test.keys().tolist()\n",
    "\n",
    "for i,label in enumerate(percentage_label_test):\n",
    "    print(str(labels[i]) + ' '+ str(math.floor(label/542*100)) + \" percent\")\n",
    "    \n",
    "    percentage_test.append((labels[i], math.floor(label/542*100)))"
   ]
  },
  {
   "cell_type": "code",
   "execution_count": 54,
   "metadata": {},
   "outputs": [
    {
     "data": {
      "text/plain": [
       "[('jobs', 3), ('money-fx', 33), ('ship', 16), ('sugar', 6), ('trade', 21)]"
      ]
     },
     "execution_count": 54,
     "metadata": {},
     "output_type": "execute_result"
    }
   ],
   "source": [
    "percentage_test"
   ]
  },
  {
   "cell_type": "markdown",
   "metadata": {},
   "source": [
    "### Create test data"
   ]
  },
  {
   "cell_type": "code",
   "execution_count": 55,
   "metadata": {
    "collapsed": true
   },
   "outputs": [],
   "source": [
    "# define X_test and y_test\n",
    "X_test = data_test.text_string\n",
    "y_test = data_test.label"
   ]
  },
  {
   "cell_type": "code",
   "execution_count": 56,
   "metadata": {},
   "outputs": [
    {
     "name": "stdout",
     "output_type": "stream",
     "text": [
      "('Features: ', 3600)\n"
     ]
    }
   ],
   "source": [
    "# Create document-term matrix for test set\n",
    "X_test_dtm = vect1.fit_transform(X_test)\n",
    "X_test_dtm = vect1.transform(X_test)\n",
    "print(('Features: ', X_test_dtm.shape[1]))"
   ]
  },
  {
   "cell_type": "markdown",
   "metadata": {},
   "source": [
    "## Use Naive Bayes to predict the labels\n"
   ]
  },
  {
   "cell_type": "markdown",
   "metadata": {},
   "source": [
    "From the sklearn documentation: In spite of their apparently over-simplified assumptions, naive Bayes classifiers have worked quite well in many real-world situations, famously document classification and spam filtering. They require a small amount of training data to estimate the necessary parameters. It is very popular for text classification.\n",
    "\n",
    "Naive Bayes works under the assumption of independence: it assumes that the value of a particular feature is independent of the value of any other feature, given the class variabl. In other words the classifier assumes that there is no correlation between the different features. Despite this naive assumption, it has been shown that Naive Bayes Classifiers work quite well in real world situations."
   ]
  },
  {
   "cell_type": "code",
   "execution_count": 57,
   "metadata": {},
   "outputs": [
    {
     "name": "stdout",
     "output_type": "stream",
     "text": [
      "0.929864253394\n"
     ]
    }
   ],
   "source": [
    "X_train_dtm = vect1.fit_transform(X_train)\n",
    "X_test_dtm = vect1.transform(X_test)\n",
    "\n",
    "\n",
    "# Use Naive Bayes to predict the labels\n",
    "nb = MultinomialNB()\n",
    "nb.fit(X_train_dtm, y_train)\n",
    "y_pred_class = nb.predict(X_test_dtm)\n",
    "\n",
    "\n",
    "# Calculate accuracy.\n",
    "print((metrics.accuracy_score(y_test, y_pred_class)))"
   ]
  },
  {
   "cell_type": "code",
   "execution_count": 58,
   "metadata": {},
   "outputs": [
    {
     "data": {
      "text/plain": [
       "money-fx    179\n",
       "trade       117\n",
       "ship         89\n",
       "sugar        36\n",
       "jobs         21\n",
       "Name: label, dtype: int64"
      ]
     },
     "execution_count": 58,
     "metadata": {},
     "output_type": "execute_result"
    }
   ],
   "source": [
    "y_test.value_counts()"
   ]
  },
  {
   "cell_type": "markdown",
   "metadata": {},
   "source": [
    "The model predictst the right label for a story with a 92.9 per cent accuracy."
   ]
  },
  {
   "cell_type": "markdown",
   "metadata": {},
   "source": [
    "### Compare to different parameter settings"
   ]
  },
  {
   "cell_type": "code",
   "execution_count": 59,
   "metadata": {
    "collapsed": true
   },
   "outputs": [],
   "source": [
    "# Define a function that accepts a vectorizer and calculates the accuracy.\n",
    "def tokenize_test(vect):\n",
    "    X_train_dtm = vect.fit_transform(X_train)\n",
    "    print(('Features: ', X_train_dtm.shape[1]))\n",
    "    X_test_dtm = vect.transform(X_test)\n",
    "    nb = MultinomialNB()\n",
    "    nb.fit(X_train_dtm, y_train)\n",
    "    y_pred_label = nb.predict(X_test_dtm)\n",
    "    print(('Accuracy: ', metrics.accuracy_score(y_test, y_pred_label)))"
   ]
  },
  {
   "cell_type": "code",
   "execution_count": 60,
   "metadata": {},
   "outputs": [
    {
     "name": "stdout",
     "output_type": "stream",
     "text": [
      "('Features: ', 1000)\n",
      "('Accuracy: ', 0.9321266968325792)\n"
     ]
    }
   ],
   "source": [
    "# limit terms to 100\n",
    "vect2 = CountVectorizer(min_df=2, stop_words='english', max_features=1000)\n",
    "tokenize_test(vect2)"
   ]
  },
  {
   "cell_type": "markdown",
   "metadata": {},
   "source": [
    "Limiting the features to 1000 increases the accuracy slightly to 0.93 per cent accuracy"
   ]
  },
  {
   "cell_type": "markdown",
   "metadata": {},
   "source": [
    "### Adding a stemmer to CountVecrotizer\n",
    "\n",
    "Stemming will reduce words to their word stem, base or root form."
   ]
  },
  {
   "cell_type": "code",
   "execution_count": 61,
   "metadata": {
    "collapsed": true
   },
   "outputs": [],
   "source": [
    "# build analyzer for stemming to add to CountVectorizer - using stemmer lowers accuracy score which is why I decided not\n",
    "# to use a stemmer\n",
    "from nltk.stem.snowball import SnowballStemmer\n",
    "\n",
    "stemmer = SnowballStemmer('english')\n",
    "analyzer = CountVectorizer().build_analyzer()\n",
    "\n",
    "def stemmed_words(doc):\n",
    "    return (stemmer.stem(w) for w in analyzer(doc))\n",
    "\n"
   ]
  },
  {
   "cell_type": "code",
   "execution_count": 62,
   "metadata": {},
   "outputs": [
    {
     "name": "stdout",
     "output_type": "stream",
     "text": [
      "('Features: ', 4393)\n",
      "('Accuracy: ', 0.91855203619909498)\n"
     ]
    }
   ],
   "source": [
    "stem_vectorizer = CountVectorizer(min_df=2, analyzer=stemmed_words, stop_words='english')\n",
    "tokenize_test(stem_vectorizer)"
   ]
  },
  {
   "cell_type": "markdown",
   "metadata": {},
   "source": [
    "by adding a stemmer the accuracy decreases to 91.8 per cent"
   ]
  },
  {
   "cell_type": "markdown",
   "metadata": {},
   "source": [
    "### Adding a stemmer and max. 1000 features"
   ]
  },
  {
   "cell_type": "code",
   "execution_count": 63,
   "metadata": {},
   "outputs": [
    {
     "name": "stdout",
     "output_type": "stream",
     "text": [
      "('Features: ', 1000)\n",
      "('Accuracy: ', 0.920814479638009)\n"
     ]
    }
   ],
   "source": [
    "stem_vectorizer_maxf = CountVectorizer(min_df=2, analyzer=stemmed_words, max_features = 1000, stop_words='english')\n",
    "tokenize_test(stem_vectorizer_maxf)"
   ]
  },
  {
   "cell_type": "markdown",
   "metadata": {},
   "source": [
    "Accuracy with vec2 (vect2 = CountVectorizer(min_df=2, stop_words='english', max_features=1000)) is the highest. I will chose that model which has an accuracy of 93 per cent."
   ]
  },
  {
   "cell_type": "markdown",
   "metadata": {},
   "source": [
    "## Evaluate TF-IDF vectorizer\n",
    "\n",
    "While a Count Vectorizer simply totals up the number of times a \"word\" appears in a document, the more complex TF-IDF Vectorizer analyzes the uniqueness of words between documents to find distinguishing characteristics."
   ]
  },
  {
   "cell_type": "code",
   "execution_count": 64,
   "metadata": {
    "collapsed": true
   },
   "outputs": [],
   "source": [
    "Tfidfvect = TfidfVectorizer(stop_words='english', min_df=2, max_features=1000)\n"
   ]
  },
  {
   "cell_type": "code",
   "execution_count": 65,
   "metadata": {},
   "outputs": [
    {
     "name": "stdout",
     "output_type": "stream",
     "text": [
      "('Features: ', 1000)\n",
      "('Accuracy: ', 0.89592760180995479)\n"
     ]
    }
   ],
   "source": [
    "Tfidfvect = TfidfVectorizer(stop_words='english', min_df=2, max_features = 1000)\n",
    "tokenize_test(Tfidfvect)"
   ]
  },
  {
   "cell_type": "markdown",
   "metadata": {},
   "source": [
    "Results with TF-IDF vectorizer are lower than with CountVectorizer. "
   ]
  },
  {
   "cell_type": "markdown",
   "metadata": {},
   "source": [
    "## Evaluate how good the model is doing"
   ]
  },
  {
   "cell_type": "code",
   "execution_count": 66,
   "metadata": {
    "collapsed": true
   },
   "outputs": [],
   "source": [
    "from  sklearn.metrics import confusion_matrix\n",
    "from sklearn.metrics import accuracy_score, precision_score, recall_score, f1_score"
   ]
  },
  {
   "cell_type": "code",
   "execution_count": 67,
   "metadata": {},
   "outputs": [
    {
     "name": "stdout",
     "output_type": "stream",
     "text": [
      "('Accuracy: ', 0.9321266968325792)\n"
     ]
    }
   ],
   "source": [
    "# use best vector for prediction\n",
    "X_train_dtm = vect2.fit_transform(X_train)\n",
    "X_test_dtm = vect2.transform(X_test)\n",
    "\n",
    "nb = MultinomialNB()\n",
    "nb.fit(X_train_dtm, y_train)\n",
    "\n",
    "y_pred_label = nb.predict(X_test_dtm)\n",
    "print(('Accuracy: ', metrics.accuracy_score(y_test, y_pred_label)))"
   ]
  },
  {
   "cell_type": "code",
   "execution_count": 68,
   "metadata": {},
   "outputs": [
    {
     "name": "stdout",
     "output_type": "stream",
     "text": [
      "Confusion matrix, without normalization\n",
      "[[ 15   1   0   1   4]\n",
      " [  0 174   0   0   5]\n",
      " [  0   0  83   4   2]\n",
      " [  1   0   0  30   5]\n",
      " [  0   6   0   2 109]]\n",
      "Normalized confusion matrix\n",
      "[[ 0.71  0.05  0.    0.05  0.19]\n",
      " [ 0.    0.97  0.    0.    0.03]\n",
      " [ 0.    0.    0.93  0.04  0.02]\n",
      " [ 0.03  0.    0.    0.83  0.14]\n",
      " [ 0.    0.05  0.    0.02  0.93]]\n"
     ]
    },
    {
     "data": {
      "image/png": "[encoded data removed]",
      "text/plain": [
       "<matplotlib.figure.Figure at 0x246d1350a58>"
      ]
     },
     "metadata": {},
     "output_type": "display_data"
    },
    {
     "data": {
      "image/png": "[encoded data removed]",
      "text/plain": [
       "<matplotlib.figure.Figure at 0x246d0d1d5f8>"
      ]
     },
     "metadata": {},
     "output_type": "display_data"
    }
   ],
   "source": [
    "from sklearn.metrics import confusion_matrix\n",
    "import itertools\n",
    "\n",
    "def plot_confusion_matrix(cm, classes,\n",
    "                          normalize=False,\n",
    "                          title='Confusion matrix',\n",
    "                          cmap=plt.cm.Blues):\n",
    "    \"\"\"\n",
    "    This function prints and plots the confusion matrix.\n",
    "    Normalization can be applied by setting `normalize=True`.\n",
    "    \"\"\"\n",
    "    if normalize:\n",
    "        cm = cm.astype('float') / cm.sum(axis=1)[:, np.newaxis]\n",
    "        print(\"Normalized confusion matrix\")\n",
    "    else:\n",
    "        print('Confusion matrix, without normalization')\n",
    "\n",
    "    print(cm)\n",
    "\n",
    "    plt.imshow(cm, interpolation='nearest', cmap=cmap)\n",
    "    plt.title(title)\n",
    "    plt.colorbar()\n",
    "    tick_marks = np.arange(len(classes))\n",
    "    plt.xticks(tick_marks, classes, rotation=45)\n",
    "    plt.yticks(tick_marks, classes)\n",
    "\n",
    "    fmt = '.2f' if normalize else 'd'\n",
    "    thresh = cm.max() / 2.\n",
    "    for i, j in itertools.product(range(cm.shape[0]), range(cm.shape[1])):\n",
    "        plt.text(j, i, format(cm[i, j], fmt),\n",
    "                 horizontalalignment=\"center\",\n",
    "                 color=\"white\" if cm[i, j] > thresh else \"black\")\n",
    "\n",
    "    plt.tight_layout()\n",
    "    plt.ylabel('True label')\n",
    "    plt.xlabel('Predicted label')\n",
    "\n",
    "# Compute confusion matrix\n",
    "cnf_matrix = confusion_matrix(y_test,y_pred_class)\n",
    "np.set_printoptions(precision=2)\n",
    "\n",
    "# Plot non-normalized confusion matrix\n",
    "plt.figure()\n",
    "plot_confusion_matrix(cnf_matrix, classes= ['crude', 'money-fx', 'trade', 'sugar', 'jobs'], title='Confusion matrix, without normalization')\n",
    "\n",
    "# Plot normalized confusion matrix\n",
    "plt.figure()\n",
    "plot_confusion_matrix(cnf_matrix, classes=['crude', 'money-fx', 'trade', 'sugar', 'jobs'], normalize=True,\n",
    "                      title='Normalized confusion matrix')\n",
    "\n",
    "plt.show()"
   ]
  },
  {
   "cell_type": "markdown",
   "metadata": {},
   "source": [
    "From the confusion matrix we can see that there were 9 False Negatives and 22 False Positives out of 442 stories. True positive rate is thus 0.94, False Positives rate 0.04 percent, True negative rate 2 per cent.\n",
    "\n",
    "--- finish presentation"
   ]
  },
  {
   "cell_type": "markdown",
   "metadata": {},
   "source": [
    "### For multiclass classification it is necessary to convert to binary"
   ]
  },
  {
   "cell_type": "code",
   "execution_count": 78,
   "metadata": {},
   "outputs": [],
   "source": [
    "from sklearn.metrics import precision_score, recall_score, f1_score\n",
    "\n",
    "acc = accuracy_score(y_test, y_pred_class)\n",
    "prec = precision_score(y_test, y_pred_class, average='weighted')\n",
    "rec = recall_score(y_test, y_pred_class, average='weighted')\n",
    "f1 = f1_score(y_test, y_pred_class, average='weighted')"
   ]
  },
  {
   "cell_type": "code",
   "execution_count": 79,
   "metadata": {},
   "outputs": [
    {
     "name": "stdout",
     "output_type": "stream",
     "text": [
      "Accuracy is 0.929864253394\n",
      "Precision is 0.932077007365\n",
      "Recall is 0.929864253394\n",
      "F1 score is 0.929731774906\n"
     ]
    }
   ],
   "source": [
    "print(\"Accuracy is \" + str(acc))\n",
    "print(\"Precision is \" + str(prec))\n",
    "print(\"Recall is \" + str(rec))\n",
    "print(\"F1 score is \" + str(f1))"
   ]
  },
  {
   "cell_type": "markdown",
   "metadata": {},
   "source": [
    "The F1 score is the harmonic average of the precision and recall, where an F1 score reaches its best value at 1 (perfect precision and recall) and worst at 0. Here it is calculated by passing in the acerage parameter to 'weighted' to work on multi labels. This calculates metrics for each label, and find their average, weighted by support (the number of true instances for each label). This alters ‘macro’ to account for label imbalance; it can result in an F-score that is not between precision and recall."
   ]
  },
  {
   "cell_type": "markdown",
   "metadata": {},
   "source": [
    "## Quick test on accuracy with Decision Tree"
   ]
  },
  {
   "cell_type": "code",
   "execution_count": 71,
   "metadata": {
    "collapsed": true
   },
   "outputs": [],
   "source": [
    "from sklearn.tree import DecisionTreeClassifier, export_graphviz"
   ]
  },
  {
   "cell_type": "code",
   "execution_count": 72,
   "metadata": {},
   "outputs": [
    {
     "data": {
      "text/plain": [
       "DecisionTreeClassifier(class_weight=None, criterion='gini', max_depth=1,\n",
       "            max_features=None, max_leaf_nodes=None,\n",
       "            min_impurity_decrease=0.0, min_impurity_split=None,\n",
       "            min_samples_leaf=1, min_samples_split=2,\n",
       "            min_weight_fraction_leaf=0.0, presort=False, random_state=None,\n",
       "            splitter='best')"
      ]
     },
     "execution_count": 72,
     "metadata": {},
     "output_type": "execute_result"
    }
   ],
   "source": [
    "dt = DecisionTreeClassifier(max_depth=1)\n",
    "dt.fit(X_train_dtm, y_train)"
   ]
  },
  {
   "cell_type": "code",
   "execution_count": 73,
   "metadata": {},
   "outputs": [
    {
     "name": "stdout",
     "output_type": "stream",
     "text": [
      "0.929864253394\n"
     ]
    }
   ],
   "source": [
    "from sklearn.metrics import accuracy_score\n",
    "print(accuracy_score(y_test, y_pred_class))\n"
   ]
  },
  {
   "cell_type": "markdown",
   "metadata": {
    "collapsed": true
   },
   "source": [
    "## Limitations and Outlook\n",
    "\n",
    "This project predicts  labels of news stories with high accuracy. However, the topics are handpicked and distinct in the areas they cover. Also, stories are only labelled to one topic (single lable model). If more labels would be present, prediction to a single label will be more difficult, as the language for the topics might be less dinstinct. For exmpample, a story with the label 'rice' might be very similar to a story tagged to 'corn'. \n",
    "\n",
    "Moreover, a topic that is related to sugar might also be related to the topic trade. Since this model is only labelling the text to one topic, the potential user might miss out on stories that she/he considers important. The model could be improved by adding more labels and doing multi label classification. \n",
    "\n",
    "Accuracy results are quite high with this model. This raises the question of overfitting. Naive Bayes Classifiers are considered relatively immune to overfitting. Because of their simple assumption of independence of features, results suffer from high bias because complex relationships cannot be represented. At the same time, this simplicity prevents overfitting on the training data.\n",
    "\n",
    "Finaly, this model can only be used in an environment where false positives are allowed. If 100 per cent accuracy is required, e.g. in a paid recommendation engine vs. a recommendation engine without charge, this model might be too inaccurate."
   ]
  },
  {
   "cell_type": "code",
   "execution_count": null,
   "metadata": {
    "collapsed": true
   },
   "outputs": [],
   "source": []
  }
 ],
 "metadata": {
  "kernelspec": {
   "display_name": "Python 3",
   "language": "python",
   "name": "python3"
  },
  "language_info": {
   "codemirror_mode": {
    "name": "ipython",
    "version": 3
   },
   "file_extension": ".py",
   "mimetype": "text/x-python",
   "name": "python",
   "nbconvert_exporter": "python",
   "pygments_lexer": "ipython3",
   "version": "3.6.3"
  }
 },
 "nbformat": 4,
 "nbformat_minor": 2
}
